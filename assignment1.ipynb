{
 "cells": [
  {
   "cell_type": "code",
   "execution_count": 1,
   "metadata": {},
   "outputs": [
    {
     "name": "stdout",
     "output_type": "stream",
     "text": [
      "1\n"
     ]
    }
   ],
   "source": [
    "import tensorflow as tf\n",
    "\n",
    "a=tf.constant(3,name='a')\n",
    "\n",
    "b=tf.constant(4,name='b')\n",
    "\n",
    "c=tf.square(a,name='c')\n",
    "\n",
    "d=tf.square(b,name='d')\n",
    "\n",
    "e=tf.add(c,d)\n",
    "\n",
    "f=tf.multiply(a,b)\n",
    "\n",
    "g=tf.constant(2,name='g')\n",
    "\n",
    "h=tf.multiply(g,f)\n",
    "\n",
    "result=tf.subtract(e,h)\n",
    "\n",
    "with tf.Session() as session:\n",
    "\n",
    "    writer = tf.summary.FileWriter(\"/tmp/tboard/output1\", session.graph)\n",
    "\n",
    "    print(session.run(result))\n",
    "\n",
    "    writer.close()"
   ]
  },
  {
   "cell_type": "code",
   "execution_count": null,
   "metadata": {
    "collapsed": true
   },
   "outputs": [],
   "source": []
  }
 ],
 "metadata": {
  "kernelspec": {
   "display_name": "Python 3",
   "language": "python",
   "name": "python3"
  },
  "language_info": {
   "codemirror_mode": {
    "name": "ipython",
    "version": 3
   },
   "file_extension": ".py",
   "mimetype": "text/x-python",
   "name": "python",
   "nbconvert_exporter": "python",
   "pygments_lexer": "ipython3",
   "version": "3.6.1"
  }
 },
 "nbformat": 4,
 "nbformat_minor": 2
}
